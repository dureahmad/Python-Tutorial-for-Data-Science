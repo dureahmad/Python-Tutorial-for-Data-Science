{
 "cells": [
  {
   "cell_type": "markdown",
   "metadata": {},
   "source": [
    "# In this tutorial we will discuss briefly th following\n",
    "   \n",
    "    * \n",
    "    * Random Numbers\n",
    "    * Counter: \n",
    "    * List Comprehension   (https://www.youtube.com/watch?v=AhSvKGTh28Q)\n",
    "    * Basic Example of Classes\n",
    "    * Fibonacci Sequence Function\n",
    "    "
   ]
  },
  {
   "cell_type": "markdown",
   "metadata": {},
   "source": [
    "# Random Number"
   ]
  },
  {
   "cell_type": "code",
   "execution_count": 27,
   "metadata": {},
   "outputs": [
    {
     "name": "stdout",
     "output_type": "stream",
     "text": [
      "['BPF', 'LOG4', 'NV_MAGICCONST', 'RECIP_BPF', 'Random', 'SG_MAGICCONST', 'SystemRandom', 'TWOPI', '_BuiltinMethodType', '_MethodType', '_Sequence', '_Set', '__all__', '__builtins__', '__cached__', '__doc__', '__file__', '__loader__', '__name__', '__package__', '__spec__', '_acos', '_bisect', '_ceil', '_cos', '_e', '_exp', '_inst', '_itertools', '_log', '_os', '_pi', '_random', '_sha512', '_sin', '_sqrt', '_test', '_test_generator', '_urandom', '_warn', 'betavariate', 'choice', 'choices', 'expovariate', 'gammavariate', 'gauss', 'getrandbits', 'getstate', 'lognormvariate', 'normalvariate', 'paretovariate', 'randint', 'random', 'randrange', 'sample', 'seed', 'setstate', 'shuffle', 'triangular', 'uniform', 'vonmisesvariate', 'weibullvariate']\n"
     ]
    }
   ],
   "source": [
    "import random\n",
    "print(dir(random))"
   ]
  },
  {
   "cell_type": "code",
   "execution_count": 28,
   "metadata": {},
   "outputs": [
    {
     "name": "stdout",
     "output_type": "stream",
     "text": [
      "0.3816059859191179\n",
      "0.28361821790671515\n",
      "0.674964847134956\n",
      "0.45683115105830563\n",
      "0.6858614854745947\n",
      "0.6618463200523511\n",
      "0.1329781447122128\n",
      "0.7678378139439905\n",
      "0.9824132490111909\n",
      "0.9693881604049188\n"
     ]
    }
   ],
   "source": [
    "for i in range(10):\n",
    "    print(random.random())"
   ]
  },
  {
   "cell_type": "markdown",
   "metadata": {},
   "source": [
    "To print randome number in a specified interval, say (a,b), we use random.uniform(a,b)   command"
   ]
  },
  {
   "cell_type": "code",
   "execution_count": 29,
   "metadata": {},
   "outputs": [
    {
     "name": "stdout",
     "output_type": "stream",
     "text": [
      "8.679960923280253\n",
      "5.265563797187726\n",
      "5.024330864950445\n",
      "5.803835162294803\n",
      "10.646013628375005\n",
      "6.817163372174434\n",
      "7.196873609962559\n",
      "10.389177467235129\n",
      "6.886182829738704\n",
      "8.293893104074433\n"
     ]
    }
   ],
   "source": [
    "for i in range(10):\n",
    "    print(random.uniform(5,11))"
   ]
  },
  {
   "cell_type": "markdown",
   "metadata": {},
   "source": [
    " To create numbers from normal distribution with mean 'm' and variance 's', we use random.normalvariate(m,s) command. For example"
   ]
  },
  {
   "cell_type": "code",
   "execution_count": 30,
   "metadata": {},
   "outputs": [
    {
     "name": "stdout",
     "output_type": "stream",
     "text": [
      "Normal Random between (3,5):\n",
      "2.4131551600581993\n",
      "7.650786972628015\n",
      "-0.7992916273916615\n",
      "2.223977582587091\n",
      "2.8399383545502657\n",
      "5.903074455927299\n",
      "6.582380154665571\n",
      "3.921537922679569\n",
      "3.9795617178880525\n",
      "5.615966025785428\n",
      "Random integer between (5,14):        \n",
      "7\n",
      "8\n",
      "10\n",
      "11\n",
      "11\n",
      "12\n",
      "8\n",
      "9\n",
      "7\n",
      "14\n"
     ]
    }
   ],
   "source": [
    "print('Normal Random between (3,5):')\n",
    "for i in range(10):\n",
    "    print(random.normalvariate(3,5))\n",
    "\n",
    "\n",
    "print('Random integer between (5,14):        ')\n",
    "for i in range(10):  \n",
    "    print(random.randint(5,14))\n",
    "    "
   ]
  },
  {
   "cell_type": "markdown",
   "metadata": {},
   "source": [
    "The random module actually produces pseudorandom (that is, deterministic) numbers based on an internal state that you can set with random.seed if you want to get reproducible results:"
   ]
  },
  {
   "cell_type": "code",
   "execution_count": 31,
   "metadata": {},
   "outputs": [
    {
     "name": "stdout",
     "output_type": "stream",
     "text": [
      "0.5714025946899135\n"
     ]
    }
   ],
   "source": [
    "random.seed(10) # set the seed to 10\n",
    "print(random.random()) # 0.57140259469"
   ]
  },
  {
   "cell_type": "markdown",
   "metadata": {},
   "source": [
    "We’ll sometimes use random.randrange, which takes either 1 or 2 arguments and returns\n",
    "an element chosen randomly from the corresponding range():"
   ]
  },
  {
   "cell_type": "code",
   "execution_count": 32,
   "metadata": {},
   "outputs": [
    {
     "name": "stdout",
     "output_type": "stream",
     "text": [
      "6 4\n"
     ]
    }
   ],
   "source": [
    "x = random.randrange(10) # choose randomly from range(10) = [0, 1, ..., 9]\n",
    "y = random.randrange(3, 6) # choose randomly from range(3, 6) = [3, 4, 5]\n",
    "print(x,y)"
   ]
  },
  {
   "cell_type": "markdown",
   "metadata": {},
   "source": [
    "random.shuffle\n",
    "\n",
    "randomly reorders the elements of a list:"
   ]
  },
  {
   "cell_type": "code",
   "execution_count": 33,
   "metadata": {},
   "outputs": [
    {
     "name": "stdout",
     "output_type": "stream",
     "text": [
      "[5, 6, 9, 2, 3, 7, 8, 4, 1, 10]\n"
     ]
    }
   ],
   "source": [
    "up_to_ten = [1,2, 3,4,5,6,7,8,9,10]\n",
    "random.shuffle(up_to_ten)\n",
    "print(up_to_ten)"
   ]
  },
  {
   "cell_type": "markdown",
   "metadata": {},
   "source": [
    "If you need to randomly pick one element from a list you can use random.choice:"
   ]
  },
  {
   "cell_type": "code",
   "execution_count": 34,
   "metadata": {},
   "outputs": [
    {
     "data": {
      "text/plain": [
       "'Bob'"
      ]
     },
     "execution_count": 34,
     "metadata": {},
     "output_type": "execute_result"
    }
   ],
   "source": [
    "name = random.choice([\"Alice\", \"Bob\", \"Charlie\"])\n",
    "name"
   ]
  },
  {
   "cell_type": "markdown",
   "metadata": {},
   "source": [
    "Random Sample\n",
    "\n",
    "And if you need to randomly choose a sample of elements without replacement (i.e., with\n",
    "no duplicates), you can use random.sample:"
   ]
  },
  {
   "cell_type": "code",
   "execution_count": 35,
   "metadata": {},
   "outputs": [
    {
     "data": {
      "text/plain": [
       "[4, 15, 47, 23, 2, 26]"
      ]
     },
     "execution_count": 35,
     "metadata": {},
     "output_type": "execute_result"
    }
   ],
   "source": [
    "lottery_numbers = range(60)\n",
    "winning_numbers = random.sample(lottery_numbers, 6) # [16, 36, 10, 6, 25, 9]\n",
    "winning_numbers"
   ]
  },
  {
   "cell_type": "markdown",
   "metadata": {},
   "source": [
    "Another example of Binomial distribution"
   ]
  },
  {
   "cell_type": "code",
   "execution_count": 36,
   "metadata": {},
   "outputs": [
    {
     "name": "stdout",
     "output_type": "stream",
     "text": [
      "1\n"
     ]
    }
   ],
   "source": [
    "def bernoulli_trial(p):\n",
    "    return 1 if random.random() < p  else 0\n",
    "\n",
    "def binomial(n, p):\n",
    "    return sum(bernoulli_trial(p) for _ in range(n))\n",
    "\n",
    "print(bernoulli_trial(0.9))"
   ]
  },
  {
   "cell_type": "markdown",
   "metadata": {},
   "source": [
    "# Counter: \n",
    "A Counter turns a sequence of values into a defaultdict(int)-like object mapping keys\n",
    "to counts. We will primarily use it to create histograms:"
   ]
  },
  {
   "cell_type": "code",
   "execution_count": 37,
   "metadata": {},
   "outputs": [
    {
     "name": "stdout",
     "output_type": "stream",
     "text": [
      "Counter({0: 3, 1: 3, 3: 2, 2: 1})\n"
     ]
    }
   ],
   "source": [
    "from collections import Counter\n",
    "c = Counter([0, 1, 2, 0, 3, 1, 0, 3, 1]) # c is (basically) { 0 : 2, 1 : 1, 2 : 1 }\n",
    "print(c)"
   ]
  },
  {
   "cell_type": "markdown",
   "metadata": {},
   "source": [
    "# Sorting"
   ]
  },
  {
   "cell_type": "code",
   "execution_count": 38,
   "metadata": {},
   "outputs": [
    {
     "name": "stdout",
     "output_type": "stream",
     "text": [
      "[1, 2, 3, 4]\n"
     ]
    }
   ],
   "source": [
    "x = [4,1,2,3]\n",
    "y = sorted(x) # is [1,2,3,4], x is unchanged\n",
    "x.sort() # now x is [1,2,3,4]\n",
    "\n",
    "print(x)"
   ]
  },
  {
   "cell_type": "code",
   "execution_count": 39,
   "metadata": {},
   "outputs": [
    {
     "name": "stdout",
     "output_type": "stream",
     "text": [
      "[1, 2, 3, 4]\n"
     ]
    }
   ],
   "source": [
    "# Reverse Sorting\n",
    "\n",
    "x = sorted([-4,1,-2,3],key=abs,  reverse=True) # is [-4,3,-2,1]\n",
    "print(y)"
   ]
  },
  {
   "cell_type": "markdown",
   "metadata": {},
   "source": [
    "# List comprehension\n",
    "List comprehensions are used for creating new lists from other iterables. As list comprehensions return lists, they consist of brackets containing the expression, which is executed for each element along with the for loop to iterate over each element.\n",
    "\n",
    "https://www.youtube.com/watch?v=AhSvKGTh28Q\n",
    "\n",
    "Example "
   ]
  },
  {
   "cell_type": "code",
   "execution_count": 40,
   "metadata": {},
   "outputs": [
    {
     "data": {
      "text/plain": [
       "[0, 1, 4, 9, 16, 25, 36, 49, 64, 81]"
      ]
     },
     "execution_count": 40,
     "metadata": {},
     "output_type": "execute_result"
    }
   ],
   "source": [
    "# without list comprehension, creating list of squares of first 10 integers\n",
    "\n",
    "square =[]\n",
    "for i in range(0,10):\n",
    "    square.append(i**2)\n",
    "    \n",
    "square"
   ]
  },
  {
   "cell_type": "code",
   "execution_count": 41,
   "metadata": {},
   "outputs": [
    {
     "data": {
      "text/plain": [
       "[0, 1, 4, 9, 16, 25, 36, 49, 64, 81]"
      ]
     },
     "execution_count": 41,
     "metadata": {},
     "output_type": "execute_result"
    }
   ],
   "source": [
    "# Now we use List Comprehension\n",
    "square = [i**2 for i in range(0,10)]\n",
    "square"
   ]
  },
  {
   "cell_type": "markdown",
   "metadata": {},
   "source": [
    "**Printing the number between 0 and 100 that are divisible by 7 and 5**"
   ]
  },
  {
   "cell_type": "code",
   "execution_count": 3,
   "metadata": {},
   "outputs": [
    {
     "data": {
      "text/plain": [
       "[0, 35, 70]"
      ]
     },
     "execution_count": 3,
     "metadata": {},
     "output_type": "execute_result"
    }
   ],
   "source": [
    "u =[i for i in range(0,100) if (i%7 ==0) and (i%5==0)]\n",
    "u"
   ]
  },
  {
   "cell_type": "code",
   "execution_count": 42,
   "metadata": {},
   "outputs": [
    {
     "name": "stdout",
     "output_type": "stream",
     "text": [
      "['lamb', 'locust', 'lion']\n"
     ]
    }
   ],
   "source": [
    "# Example with words, \n",
    "words = ['fox', 'dog', 'cat', 'lamb', 'locust', 'tiger','lion', 'crocodile','wolf']\n",
    "animal = []\n",
    "for a in words:\n",
    "    if a.startswith('l'):\n",
    "        animal.append(a)\n",
    "        \n",
    "print(animal)"
   ]
  },
  {
   "cell_type": "code",
   "execution_count": 43,
   "metadata": {},
   "outputs": [
    {
     "name": "stdout",
     "output_type": "stream",
     "text": [
      "['lamb', 'locust', 'lion']\n"
     ]
    }
   ],
   "source": [
    "# Now with list comprehension\n",
    "\n",
    "animal = [a for a in words if a.startswith('l')]\n",
    "print(animal)"
   ]
  },
  {
   "cell_type": "markdown",
   "metadata": {},
   "source": [
    "Similarly we can do for two argu ments, for example we have list of tuples with name and year and we want to find name for some number greater than 50"
   ]
  },
  {
   "cell_type": "code",
   "execution_count": 44,
   "metadata": {},
   "outputs": [
    {
     "name": "stdout",
     "output_type": "stream",
     "text": [
      "[55]\n",
      "['a', 'c', 'f', 'f']\n"
     ]
    }
   ],
   "source": [
    "x=[('a',55),('b', 47),('c',75),('d', 27), ('e',25),('f', 87),('g',35),('f', 97)]\n",
    "xnewNum = [num for (a1,num) in x if a1.startswith('a')]\n",
    "print(xnewNum)\n",
    "\n",
    "xnewLetter = [a1 for(a1,num)  in x if num>50]\n",
    "print(xnewLetter)"
   ]
  },
  {
   "cell_type": "code",
   "execution_count": 45,
   "metadata": {},
   "outputs": [
    {
     "name": "stdout",
     "output_type": "stream",
     "text": [
      "[(1, 2), (1, 4), (1, 6), (1, 8), (3, 2), (3, 4), (3, 6), (3, 8), (5, 2), (5, 4), (5, 6), (5, 8), (7, 2), (7, 4), (7, 6), (7, 8)]\n"
     ]
    }
   ],
   "source": [
    "#Cartesian product\n",
    "A=[1,3,5,7]\n",
    "B=[2,4,6,8]\n",
    "cartesian_prod = [(a,b) for a in A for b in B]\n",
    "print(cartesian_prod)"
   ]
  },
  {
   "cell_type": "markdown",
   "metadata": {},
   "source": []
  },
  {
   "cell_type": "code",
   "execution_count": null,
   "metadata": {},
   "outputs": [],
   "source": []
  },
  {
   "cell_type": "markdown",
   "metadata": {},
   "source": [
    "# Class Example"
   ]
  },
  {
   "cell_type": "code",
   "execution_count": 46,
   "metadata": {},
   "outputs": [],
   "source": [
    "class User:       # create class\n",
    "    pass          # it will just pass the class and do nothing\n",
    "\n"
   ]
  },
  {
   "cell_type": "markdown",
   "metadata": {},
   "source": [
    "Now to make a user, we type the name of a user, say user1 and assighn this to class User. We call user1 is an \n",
    "instance of 'User' class. 'user1' is an object"
   ]
  },
  {
   "cell_type": "code",
   "execution_count": 47,
   "metadata": {},
   "outputs": [
    {
     "name": "stdout",
     "output_type": "stream",
     "text": [
      "John\n",
      "Randel\n"
     ]
    }
   ],
   "source": [
    "user1=User()\n",
    "# now to add data to that object, we do\n",
    "user1.first_name = 'John'    #first_name and last_name are field.\n",
    "user1.last_name = 'Randel'\n",
    "user1.age = 18\n",
    "\n",
    "print(user1.first_name)\n",
    "print(user1.last_name)"
   ]
  },
  {
   "cell_type": "code",
   "execution_count": 48,
   "metadata": {},
   "outputs": [
    {
     "name": "stdout",
     "output_type": "stream",
     "text": [
      "Irham Ahmad\n",
      "John Randel 18\n"
     ]
    }
   ],
   "source": [
    "# Now consider the example\n",
    "first_name = 'Irham'\n",
    "last_name = 'Ahmad'\n",
    "\n",
    "print(first_name, last_name)\n",
    "print(user1.first_name, user1.last_name,user1.age)"
   ]
  },
  {
   "cell_type": "markdown",
   "metadata": {},
   "source": [
    "Now let's make a second user. 'user2'"
   ]
  },
  {
   "cell_type": "code",
   "execution_count": 49,
   "metadata": {},
   "outputs": [
    {
     "name": "stdout",
     "output_type": "stream",
     "text": [
      "Randel 15\n"
     ]
    }
   ],
   "source": [
    "user2 = User()\n",
    "user2.first_name = 'Abdullah'\n",
    "user2.last_name = 'Ai'\n",
    "user2.age = 15\n",
    "print(user1.last_name, user2.age)"
   ]
  },
  {
   "cell_type": "markdown",
   "metadata": {},
   "source": [
    "Class Features\n",
    "    * Methods\n",
    "    * Initialization\n",
    "    * Help test"
   ]
  },
  {
   "cell_type": "code",
   "execution_count": 1,
   "metadata": {},
   "outputs": [
    {
     "name": "stdout",
     "output_type": "stream",
     "text": [
      "Baryal Ahmad\n",
      "Sep 11, 2008\n",
      "11\n",
      "Baryal Ahmad\n",
      "Baryal\n",
      "Ahmad\n"
     ]
    }
   ],
   "source": [
    "# The first feature we will add is init method , it comes with the double undersceore, before and at the end\n",
    "class User:\n",
    "    def __init__(self, f_name, birthday, age):\n",
    "        self.name = f_name\n",
    "        self.bday = birthday\n",
    "        self.age = age\n",
    "# Now we try to extract the first and the last name using  '.split'  method\n",
    "\n",
    "        name_pieces = f_name.split(' ')\n",
    "        self.first = name_pieces[0]\n",
    "        self.last  = name_pieces[1]\n",
    "        \n",
    "u = User(\"Baryal Ahmad\",\"Sep 11, 2008\", '11')\n",
    "print(u.name)\n",
    "print(u.bday)\n",
    "print(u.age)\n",
    "\n",
    "\n",
    "print(u.name)\n",
    "print(u.first)\n",
    "print(u.last)\n"
   ]
  },
  {
   "cell_type": "markdown",
   "metadata": {},
   "source": []
  },
  {
   "cell_type": "code",
   "execution_count": 51,
   "metadata": {},
   "outputs": [
    {
     "data": {
      "text/plain": [
       "[1, 2, 3, 4, 5, 6, 7]"
      ]
     },
     "execution_count": 51,
     "metadata": {},
     "output_type": "execute_result"
    }
   ],
   "source": [
    "a=[1,2,3,4,5,6,7,8,9]\n",
    "a[:-2]"
   ]
  },
  {
   "cell_type": "markdown",
   "metadata": {},
   "source": [
    "# Fibonacci Sequence Function"
   ]
  },
  {
   "cell_type": "code",
   "execution_count": 52,
   "metadata": {},
   "outputs": [
    {
     "name": "stdout",
     "output_type": "stream",
     "text": [
      "1 : 1\n",
      "2 : 1\n",
      "3 : 2\n",
      "4 : 3\n",
      "5 : 5\n",
      "6 : 8\n",
      "7 : 13\n",
      "8 : 21\n",
      "9 : 34\n",
      "10 : 55\n",
      "10th Fibinacci number = 55\n"
     ]
    }
   ],
   "source": [
    "def fib(n):\n",
    "    if n ==1:\n",
    "        return 1\n",
    "    elif  n == 2:\n",
    "        return 1\n",
    "    elif n > 2:\n",
    "        return fib(n-1) + fib(n-2)\n",
    "    \n",
    "for n in range(1,11):\n",
    "    print(n, ':', fib(n))\n",
    "\n",
    "print('10th Fibinacci number =', fib(10))"
   ]
  },
  {
   "cell_type": "markdown",
   "metadata": {},
   "source": [
    "# Note that if we run the above code for large value of n, it will hault. to overcome, we make use of the cache value\n",
    "In this case we will not f=irst compute the value, but fist we cache it and then compute it. "
   ]
  },
  {
   "cell_type": "code",
   "execution_count": 53,
   "metadata": {},
   "outputs": [
    {
     "name": "stdout",
     "output_type": "stream",
     "text": [
      "1 : 1\n",
      "2 : 1\n",
      "3 : 2\n",
      "4 : 3\n",
      "5 : 5\n",
      "6 : 8\n",
      "7 : 13\n",
      "8 : 21\n",
      "9 : 34\n",
      "10 : 55\n",
      "10th Fibinacci number = 1317090516751949629522763087125316412066606964992507141887746936727530870405038425764503130123186407746570862185871925952766836352119119528156315582632460790383834605654880612657718465632568839245978248473058179422070735553124716385450886640552392273856770672239797164264356927661308349671941673643205733343592701716715788255170679575500279186053316365583259186927359351023387298371686222860827415371443553759953659514120882763808142593366402472251348360008915585215291504984371697523871199553935714056959634778700594751875\n"
     ]
    }
   ],
   "source": [
    "fib_cache = {}\n",
    "\n",
    "def fib(n):\n",
    "    # If we have cached the value, then return it\n",
    "    if n in fib_cache:\n",
    "        return fib_cache[n]\n",
    "    # Compute the nth term\n",
    "    if n ==1:\n",
    "        value =  1\n",
    "    elif  n == 2:\n",
    "        value  = 1\n",
    "    elif n > 2:\n",
    "        value  =  fib(n-1) + fib(n-2)\n",
    "    # Cache the value and return it\n",
    "    fib_cache[n] = value\n",
    "    return value\n",
    "    \n",
    "for n in range(1,11):\n",
    "    print(n, ':', fib(n))\n",
    "\n",
    "print('10th Fibinacci number =', fib(2500))"
   ]
  },
  {
   "cell_type": "markdown",
   "metadata": {},
   "source": [
    " An easy way to overcome this isse is using \n",
    "# lru_cache function"
   ]
  },
  {
   "cell_type": "code",
   "execution_count": 54,
   "metadata": {},
   "outputs": [
    {
     "name": "stdout",
     "output_type": "stream",
     "text": [
      "10th Fibinacci number = 139423224561697880139724382870407283950070256587697307264108962948325571622863290691557658876222521294125\n"
     ]
    }
   ],
   "source": [
    "from functools import lru_cache\n",
    "@lru_cache(maxsize = 2100)\n",
    "def fib(n):\n",
    "    if n == 1:\n",
    "        return 1\n",
    "    elif n == 2:\n",
    "        return 1\n",
    "    elif n>2:\n",
    "        return fib(n-1) + fib(n-2)\n",
    "\n",
    "print('10th Fibinacci number =', fib(500))"
   ]
  },
  {
   "cell_type": "code",
   "execution_count": null,
   "metadata": {},
   "outputs": [],
   "source": []
  },
  {
   "cell_type": "code",
   "execution_count": null,
   "metadata": {},
   "outputs": [],
   "source": []
  },
  {
   "cell_type": "code",
   "execution_count": null,
   "metadata": {},
   "outputs": [],
   "source": []
  },
  {
   "cell_type": "code",
   "execution_count": null,
   "metadata": {},
   "outputs": [],
   "source": []
  },
  {
   "cell_type": "code",
   "execution_count": null,
   "metadata": {},
   "outputs": [],
   "source": []
  },
  {
   "cell_type": "code",
   "execution_count": null,
   "metadata": {},
   "outputs": [],
   "source": []
  },
  {
   "cell_type": "code",
   "execution_count": null,
   "metadata": {},
   "outputs": [],
   "source": []
  },
  {
   "cell_type": "code",
   "execution_count": null,
   "metadata": {},
   "outputs": [],
   "source": []
  }
 ],
 "metadata": {
  "kernelspec": {
   "display_name": "Python 3",
   "language": "python",
   "name": "python3"
  },
  "language_info": {
   "codemirror_mode": {
    "name": "ipython",
    "version": 3
   },
   "file_extension": ".py",
   "mimetype": "text/x-python",
   "name": "python",
   "nbconvert_exporter": "python",
   "pygments_lexer": "ipython3",
   "version": "3.7.6"
  }
 },
 "nbformat": 4,
 "nbformat_minor": 4
}
